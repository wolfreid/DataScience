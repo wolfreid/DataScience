{
 "cells": [
  {
   "cell_type": "markdown",
   "metadata": {},
   "source": []
  },
  {
   "cell_type": "code",
   "execution_count": 1,
   "metadata": {},
   "outputs": [
    {
     "name": "stdout",
     "output_type": "stream",
     "text": [
      "Report Server does not allow usable data export methods. Update server settings/version to enable XML, Excel, or CSV export.\n"
     ]
    }
   ],
   "source": [
    "import sspyrs\n",
    "\n",
    "myrpt = sspyrs.report('http://reports.ent.ukrgas.com.ua/Reports/report/Test/report_number_of_users_GRS:Format=PDF  ',\n",
    "'Roman.Prylypko','SnakeAbraham23012021')"
   ]
  },
  {
   "cell_type": "code",
   "execution_count": 21,
   "metadata": {},
   "outputs": [],
   "source": [
    "import requests\n",
    "from requests_ntlm import HttpNtlmAuth\n",
    "username = \"Roman.Prylypko\"\n",
    "password = \"SnakeAbraham23012021\"\n",
    "url = \"http://reports.ent.ukrgas.com.ua/reports/report/ReportClient/Reports/report_number_of_users_GRS&amp;ReportParameter1=1&amp;Date=08%2F22%2F2022%2000%3A00%3A00&amp;org_db=VN_RGCB&amp;rs%3AParameterLanguage=&amp;rs%3ACommand=Render&amp;rs%3AFormat=ATOM&amp;rc%3AItemPath=Tablix1\"\n",
    "r = requests.get(url, auth=HttpNtlmAuth(username, password))"
   ]
  },
  {
   "cell_type": "code",
   "execution_count": 22,
   "metadata": {},
   "outputs": [
    {
     "data": {
      "text/plain": [
       "<Response [200]>"
      ]
     },
     "execution_count": 22,
     "metadata": {},
     "output_type": "execute_result"
    }
   ],
   "source": [
    "r.iter_content()"
   ]
  },
  {
   "cell_type": "code",
   "execution_count": 23,
   "metadata": {},
   "outputs": [],
   "source": [
    "\n",
    "filename = r\"C:\\Users\\Roman.Prylypko\\Desktop\\report2.pdf\"\n",
    "if r.status_code == 200:\n",
    "    with open(filename, 'wb') as out:\n",
    "        for bits in r.iter_content():\n",
    "            out.write(bits)"
   ]
  }
 ],
 "metadata": {
  "kernelspec": {
   "display_name": "Python 3.8.5 ('base')",
   "language": "python",
   "name": "python3"
  },
  "language_info": {
   "codemirror_mode": {
    "name": "ipython",
    "version": 3
   },
   "file_extension": ".py",
   "mimetype": "text/x-python",
   "name": "python",
   "nbconvert_exporter": "python",
   "pygments_lexer": "ipython3",
   "version": "3.8.5"
  },
  "orig_nbformat": 4,
  "vscode": {
   "interpreter": {
    "hash": "ad2bdc8ecc057115af97d19610ffacc2b4e99fae6737bb82f5d7fb13d2f2c186"
   }
  }
 },
 "nbformat": 4,
 "nbformat_minor": 2
}
