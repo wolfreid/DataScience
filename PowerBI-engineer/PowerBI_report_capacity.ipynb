{
 "cells": [
  {
   "cell_type": "code",
   "execution_count": 28,
   "metadata": {},
   "outputs": [
    {
     "name": "stderr",
     "output_type": "stream",
     "text": [
      "C:\\Users\\Roman.Prylypko\\AppData\\Local\\Temp\\ipykernel_1440\\3320571223.py:16: SettingWithCopyWarning: \n",
      "A value is trying to be set on a copy of a slice from a DataFrame.\n",
      "Try using .loc[row_indexer,col_indexer] = value instead\n",
      "\n",
      "See the caveats in the documentation: https://pandas.pydata.org/pandas-docs/stable/user_guide/indexing.html#returning-a-view-versus-a-copy\n",
      "  event[\"visualTitle\"] = visualTitle\n"
     ]
    }
   ],
   "source": [
    "import pandas as pd\n",
    "\n",
    "service = pd.read_json(r\"\\\\Sho-fs02\\hq\\Departments\\NaturalGas\\Диспетчерская УК\\ЦДУ\\Методика прогнозування\\расчет населения ПАТ\\Прогнозирование\\Рома\\PR PowerBI\\Версии\\1 Develop Vers\\Import\\Без обмінів\\Динаміка\\PowerBIPerformanceData.json\",orient=str,encoding = 'utf-8-sig', lines=True)\n",
    "\n",
    "events = service.events[0]\n",
    "sessionId  = service.sessionId\n",
    "\n",
    "events_pivot = pd.DataFrame.from_dict(events).astype({\"start\": \"datetime64\", \"end\":\"datetime64\"})\n",
    "events_pivot[\"render_time\"] = events_pivot.end - events_pivot.start\n",
    "event = events_pivot[events_pivot.render_time == events_pivot.render_time.max()]\n",
    "metrics = dict(event.metrics)\n",
    "metrics= metrics[event.metrics.index[0]]\n",
    "\n",
    "event_metrics = pd.Series(metrics)\n",
    "visualTitle =event_metrics.visualTitle\n",
    "event[\"visualTitle\"] = visualTitle\n",
    "event_new = event[[\"name\",\"visualTitle\",\"start\",\"end\",\"render_time\"]]"
   ]
  },
  {
   "cell_type": "code",
   "execution_count": 29,
   "metadata": {},
   "outputs": [
    {
     "data": {
      "text/html": [
       "<div>\n",
       "<style scoped>\n",
       "    .dataframe tbody tr th:only-of-type {\n",
       "        vertical-align: middle;\n",
       "    }\n",
       "\n",
       "    .dataframe tbody tr th {\n",
       "        vertical-align: top;\n",
       "    }\n",
       "\n",
       "    .dataframe thead th {\n",
       "        text-align: right;\n",
       "    }\n",
       "</style>\n",
       "<table border=\"1\" class=\"dataframe\">\n",
       "  <thead>\n",
       "    <tr style=\"text-align: right;\">\n",
       "      <th></th>\n",
       "      <th>name</th>\n",
       "      <th>visualTitle</th>\n",
       "      <th>start</th>\n",
       "      <th>end</th>\n",
       "      <th>render_time</th>\n",
       "    </tr>\n",
       "  </thead>\n",
       "  <tbody>\n",
       "    <tr>\n",
       "      <th>113</th>\n",
       "      <td>Visual Container Lifecycle</td>\n",
       "      <td>Матриця</td>\n",
       "      <td>2022-10-10 16:36:12.632</td>\n",
       "      <td>2022-10-10 16:37:01.461</td>\n",
       "      <td>0 days 00:00:48.829000</td>\n",
       "    </tr>\n",
       "  </tbody>\n",
       "</table>\n",
       "</div>"
      ],
      "text/plain": [
       "                           name visualTitle                   start  \\\n",
       "113  Visual Container Lifecycle     Матриця 2022-10-10 16:36:12.632   \n",
       "\n",
       "                        end            render_time  \n",
       "113 2022-10-10 16:37:01.461 0 days 00:00:48.829000  "
      ]
     },
     "execution_count": 29,
     "metadata": {},
     "output_type": "execute_result"
    }
   ],
   "source": [
    "event_new"
   ]
  }
 ],
 "metadata": {
  "interpreter": {
   "hash": "ad2bdc8ecc057115af97d19610ffacc2b4e99fae6737bb82f5d7fb13d2f2c186"
  },
  "kernelspec": {
   "display_name": "Python 3.8.5 ('base')",
   "language": "python",
   "name": "python3"
  },
  "language_info": {
   "codemirror_mode": {
    "name": "ipython",
    "version": 3
   },
   "file_extension": ".py",
   "mimetype": "text/x-python",
   "name": "python",
   "nbconvert_exporter": "python",
   "pygments_lexer": "ipython3",
   "version": "3.8.5"
  },
  "orig_nbformat": 4
 },
 "nbformat": 4,
 "nbformat_minor": 2
}
