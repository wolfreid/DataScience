{
 "cells": [
  {
   "cell_type": "markdown",
   "metadata": {},
   "source": [
    "Тестирования библиотек парсинга и анализа массивов данных в РГК"
   ]
  },
  {
   "cell_type": "code",
   "execution_count": 691,
   "metadata": {},
   "outputs": [],
   "source": [
    "PATH = r\"C:\\Users\\Roman.Prylypko\\Documents\\MY WORK\\RGC programming\\RGC analyst python\\RGClib\"\n",
    "import pandas as pd\n",
    "import numpy as np \n",
    "import os\n",
    "from datetime import datetime,date\n",
    "import pyodbc\n",
    "import win32com.client \n",
    "import pathlib\n",
    "import sys\n",
    "from calendar import monthrange\n",
    "from importlib import reload\n",
    "sys.path.insert(1,PATH )\n",
    "import connections as cons\n",
    "import rgcsql\n",
    "import sqlmaneger as wizard\n",
    "# reload(cons)\n",
    "# reload(wizard)\n",
    "root_IT = r\"\\\\ent\\root\\HQ\\Departments\\NaturalGas\\Диспетчерская УК\\ЦДУ\\Методика прогнозування\\расчет населения ПАТ\\Прогнозирование\\IT\"\n",
    "path_sql = root_IT +\"\\\\\"+r\"Индастри\\SQL-lib\"\n",
    "lists_with_path = os.listdir(path_sql)\n",
    "# import process_tables\n",
    "import re\n",
    "reload(wizard )\n",
    "reload(cons)\n",
    "from collections import namedtuple\n",
    "new_data = cons.SQL_Query(path = path_sql,name = \"довідник_сектори\",server_name = 'sho-cons01',DB = 'Indcons',ext = 'sql',encoding  = 'cp1251')\n",
    "file = new_data.read_source(lines=True,name = \"дані_витрата_оперативка\")\n",
    "\n",
    "sql_parser = wizard.Parser(file = file,name =\"дані_витрата_оперативка\" )\n",
    "\n",
    "# t1 = cons.Test(12)      #instantiates the object\n",
    "# t2 = cons.Test(27)    "
   ]
  },
  {
   "cell_type": "code",
   "execution_count": 692,
   "metadata": {},
   "outputs": [
    {
     "data": {
      "text/plain": [
       "[Document(name='Structure', action='Structure', hash='\\\\/\\\\*[A-Za-z]+\\\\*/'),\n",
       " Document(name='Replace', action='Replace', hash='\\\\/\\\\*[A-Za-z]+'),\n",
       " Document(name='Executive', action='Executive', hash='[A-Za-z]+')]"
      ]
     },
     "execution_count": 692,
     "metadata": {},
     "output_type": "execute_result"
    }
   ],
   "source": [
    "sql_parser.template"
   ]
  },
  {
   "cell_type": "code",
   "execution_count": 683,
   "metadata": {},
   "outputs": [
    {
     "ename": "TypeError",
     "evalue": "unhashable type: 'dict'",
     "output_type": "error",
     "traceback": [
      "\u001b[1;31m---------------------------------------------------------------------------\u001b[0m",
      "\u001b[1;31mTypeError\u001b[0m                                 Traceback (most recent call last)",
      "\u001b[1;32m<ipython-input-683-f16956a17216>\u001b[0m in \u001b[0;36m<module>\u001b[1;34m\u001b[0m\n\u001b[1;32m----> 1\u001b[1;33m \u001b[1;33m{\u001b[0m\u001b[1;34m\"5\"\u001b[0m\u001b[1;33m:\u001b[0m\u001b[1;36m6\u001b[0m\u001b[1;33m}\u001b[0m \u001b[1;32min\u001b[0m \u001b[1;33m{\u001b[0m\u001b[1;34m\"5\"\u001b[0m\u001b[1;33m:\u001b[0m\u001b[1;36m6\u001b[0m\u001b[1;33m,\u001b[0m\u001b[1;34m\"6\"\u001b[0m\u001b[1;33m:\u001b[0m\u001b[1;36m7\u001b[0m\u001b[1;33m}\u001b[0m\u001b[1;33m\u001b[0m\u001b[1;33m\u001b[0m\u001b[0m\n\u001b[0m",
      "\u001b[1;31mTypeError\u001b[0m: unhashable type: 'dict'"
     ]
    }
   ],
   "source": [
    "{\"5\":6} in {\"5\":6,\"6\":7}"
   ]
  },
  {
   "cell_type": "code",
   "execution_count": null,
   "metadata": {},
   "outputs": [
    {
     "name": "stderr",
     "output_type": "stream",
     "text": [
      "('A very specific bad thing happened', 11)\n"
     ]
    },
    {
     "name": "stdout",
     "output_type": "stream",
     "text": [
      "<class 'ValueError'> <ipython-input-644-862121c2b6a4> 11\n"
     ]
    }
   ],
   "source": [
    "import sys\n",
    "import logging\n",
    "logger = logging.getLogger(__name__)\n",
    "\n",
    "\n",
    "\n",
    "try:\n",
    "    a = 5+6\n",
    "    # print(a)\n",
    "    if a>5 :\n",
    "        raise    ValueError('A very specific bad thing happened',a)\n",
    "except ValueError as error:\n",
    "    exc_type, exc_obj, exc_tb = sys.exc_info()\n",
    "    fname = os.path.split(exc_tb.tb_frame.f_code.co_filename)[1]\n",
    "    print(exc_type, fname, exc_tb.tb_lineno)\n",
    "    logger.error(error)#error.arg               # just this!)\n",
    "    # raise error.with_traceback(sys.exc_info()[2])                 # just this!\n",
    "    # rais"
   ]
  },
  {
   "cell_type": "code",
   "execution_count": null,
   "metadata": {},
   "outputs": [
    {
     "data": {
      "text/plain": [
       "str"
      ]
     },
     "execution_count": 622,
     "metadata": {},
     "output_type": "execute_result"
    }
   ],
   "source": [
    "a = {\"a\":\"b\"}\n",
    "a[\"a\"]"
   ]
  },
  {
   "cell_type": "code",
   "execution_count": null,
   "metadata": {},
   "outputs": [],
   "source": [
    "\n",
    "#object of connection\n",
    "\n",
    "\n",
    "# sql_query = new_data.get_query()\n",
    "# conn = new_data.connect_sql()\n",
    "df = new_data.get_sql_df(name = \"дані_витрата_оперативка\") #не работает\n",
    "# df = new_data.get_sql_df(name='дані_витрата_факт' )\n",
    "\n",
    "#надходження\n",
    "#витрати \n",
    "#сектор"
   ]
  },
  {
   "cell_type": "code",
   "execution_count": null,
   "metadata": {},
   "outputs": [],
   "source": [
    "reload(wizard)\n",
    "sql_parser = wizard.Structure(file = \"file\",name =\"дані_витрата_оперативка\",object = wizard.ObjectReport(\"name1\",\"code1\",alias = \"alias1\") )\n",
    "sql_parser = wizard.Structure(file = \"file\",name =\"дані_витрата_оперативка\",object = wizard.ObjectReport(\"name2\",\"code2\",alias =\"alias2\"))\n",
    "# sql_parser = wizard.Structure(file = \"file\",name =\"дані_витрата_оперативка\",object = wizard.Organization(\"org1\",\"org_code\"),key = 'org1' )\n",
    "# fuck_parser = wizard.Structure(file = \"file\",name =\"дані_витрата_оперативка\",object = wizard.Organization(\"org\",\"org_code\"),key = 'org2' )"
   ]
  },
  {
   "cell_type": "code",
   "execution_count": null,
   "metadata": {},
   "outputs": [],
   "source": [
    "import re\n",
    "reload(wizard )\n",
    "from collections import namedtuple\n",
    "new_data = cons.SQL_Query(path = path_sql,name = \"довідник_сектори\",server_name = 'sho-cons01',DB = 'Indcons',ext = 'sql',encoding  = 'cp1251')\n",
    "file = new_data.read_source(lines=True,name = \"дані_витрата_оперативка\")\n",
    "sql_parser = wizard.Parser(file = file,name =\"дані_витрата_оперативка\" )\n",
    "sql_parser.parse_header()\n",
    "mystructure = sql_parser.commands\n",
    "\n",
    "\n",
    "\n",
    "Structure = Document(\"Structure\",\"\\/\\*[A-Za-z]+\\*/\")\n",
    "Replace = Document(\"Replace\",\"\\/\\*[A-Za-z]+\")\n",
    "Executive = Document(\"Executive\",\"[A-Za-z]+\")\n",
    "a = [Structure,Replace,Executive]\n",
    "\n",
    "for line,command in mystructure.items():\n",
    "    if re.search(Structure.hash,command.strip()):\n",
    "        mystructure[line]  =(re.sub('\\/\\*|\\*/','',command.strip()).split()[0],Structure.action)\n",
    "    elif re.search(\"\\/\\*[A-Za-z]+\",command.strip()):\n",
    "        mystructure[line]  = (re.sub('\\/\\*|\\*/','',command.strip()).split()[0],\"Replace\")\n",
    "    elif re.search(\"[A-Za-z]+\",command.strip()):\n",
    "        mystructure[line] = (re.sub('\\/\\*|\\*/','',command.strip()).split()[0],\"Executive\")\n",
    "mystructure\n",
    "    \n"
   ]
  },
  {
   "cell_type": "code",
   "execution_count": null,
   "metadata": {},
   "outputs": [
    {
     "name": "stdout",
     "output_type": "stream",
     "text": [
      "[{'type': Document(name='Structure', action='Structure', hash='\\\\/\\\\*[A-Za-z]+\\\\*/')}, {'type': Document(name='Replace', action='Replace', hash='\\\\/\\\\*[A-Za-z]+')}, {'type': Document(name='Executive', action='Executive', hash='[A-Za-z]+')}]\n"
     ]
    }
   ],
   "source": []
  },
  {
   "cell_type": "code",
   "execution_count": 751,
   "metadata": {},
   "outputs": [
    {
     "data": {
      "text/plain": [
       "{}"
      ]
     },
     "execution_count": 751,
     "metadata": {},
     "output_type": "execute_result"
    }
   ],
   "source": [
    "def func(*argc,**argv):\n",
    "    b = argc\n",
    "    b = argv\n",
    "    return b\n",
    "\n",
    "func(5,6)    "
   ]
  },
  {
   "cell_type": "code",
   "execution_count": 758,
   "metadata": {},
   "outputs": [
    {
     "data": {
      "text/plain": [
       "[1, 2, 3, 4]"
      ]
     },
     "execution_count": 758,
     "metadata": {},
     "output_type": "execute_result"
    }
   ],
   "source": [
    "a = [1,2,3,4]\n",
    "def func(**args):\n",
    "    return args\n",
    "b = list(filter(lambda x:func(b=0),a))\n",
    "b"
   ]
  },
  {
   "cell_type": "code",
   "execution_count": 754,
   "metadata": {},
   "outputs": [
    {
     "ename": "KeyError",
     "evalue": "'lab'",
     "output_type": "error",
     "traceback": [
      "\u001b[1;31m---------------------------------------------------------------------------\u001b[0m",
      "\u001b[1;31mKeyError\u001b[0m                                  Traceback (most recent call last)",
      "\u001b[1;32m<ipython-input-754-23230da911da>\u001b[0m in \u001b[0;36m<module>\u001b[1;34m\u001b[0m\n\u001b[0;32m      1\u001b[0m \u001b[0mfilters\u001b[0m \u001b[1;33m=\u001b[0m \u001b[1;33m{\u001b[0m\u001b[1;33m}\u001b[0m\u001b[1;33m\u001b[0m\u001b[1;33m\u001b[0m\u001b[0m\n\u001b[0;32m      2\u001b[0m \u001b[0mfilters\u001b[0m\u001b[1;33m[\u001b[0m\u001b[1;34m\"label\"\u001b[0m\u001b[1;33m]\u001b[0m \u001b[1;33m=\u001b[0m \u001b[1;36m5\u001b[0m\u001b[1;33m\u001b[0m\u001b[1;33m\u001b[0m\u001b[0m\n\u001b[1;32m----> 3\u001b[1;33m \u001b[0mfilters\u001b[0m\u001b[1;33m[\u001b[0m\u001b[1;34m\"lab\"\u001b[0m\u001b[1;33m]\u001b[0m\u001b[1;33m==\u001b[0m\u001b[1;32mNone\u001b[0m\u001b[1;33m\u001b[0m\u001b[1;33m\u001b[0m\u001b[0m\n\u001b[0m",
      "\u001b[1;31mKeyError\u001b[0m: 'lab'"
     ]
    }
   ],
   "source": [
    "filters = {}\n",
    "filters[\"label\"] = 5\n",
    "iof lab in \n",
    "filters[\"lab\"]"
   ]
  },
  {
   "cell_type": "code",
   "execution_count": 774,
   "metadata": {},
   "outputs": [],
   "source": [
    "# voc = {}\n",
    "# boc = {}\n",
    "# Document= namedtuple('Document','name hash')\n",
    "# for a in [\"Document1\",\"Document2\",\"Document3\"]:\n",
    "#     boc.update({a:Document(a, \"\\/\\*[A-Za-z]+\\*/\")})\n",
    "# voc.update({Document.__name__:boc})\n",
    "# voc\n",
    "# # voc['Document_Document1'].action\n",
    "# voc[\"Document\"][\"Document1\"].hash\n",
    "# \"Docement1\" in [voc[\"Document\"][].name for \n",
    "Document= namedtuple('Document','name hash')\n",
    "\n",
    "Structure = Document(\"Structure\",\"\\/\\*[A-Za-z]+\\*/\")\n",
    "Replace = Document(\"Replace\",\"\\/\\*[A-Za-z]+\")\n",
    "Executive = Document(\"Executive\",\"[A-Za-z]+\")\n",
    "voc = [Structure,Replace,Executive]\n",
    "\n",
    "# myobject = voc[\"Document1\"](\"Structure\",\"\\/\\*[A-Za-z]+\\*/\")\n",
    "# myobject.hash\n",
    "\n",
    "# myobject.__class__.__name__\n",
    "# voc\n",
    "# Document = namedtuple('Document','action hash')\n",
    "# voc"
   ]
  },
  {
   "cell_type": "code",
   "execution_count": 792,
   "metadata": {},
   "outputs": [
    {
     "data": {
      "text/plain": [
       "<_collections._tuplegetter at 0x199e2e21520>"
      ]
     },
     "execution_count": 792,
     "metadata": {},
     "output_type": "execute_result"
    }
   ],
   "source": [
    "voc[0].__class__.__dict__['name']\n"
   ]
  },
  {
   "cell_type": "code",
   "execution_count": 789,
   "metadata": {},
   "outputs": [
    {
     "data": {
      "text/plain": [
       "False"
      ]
     },
     "execution_count": 789,
     "metadata": {},
     "output_type": "execute_result"
    }
   ],
   "source": [
    "voc[0].__class__.__dict__['name']=='Structure'"
   ]
  },
  {
   "cell_type": "code",
   "execution_count": 775,
   "metadata": {},
   "outputs": [
    {
     "data": {
      "text/plain": [
       "[]"
      ]
     },
     "execution_count": 775,
     "metadata": {},
     "output_type": "execute_result"
    }
   ],
   "source": [
    "def func(x):\n",
    "    return x.__class__.__dict__['name'] =='Structure'\n",
    "list(filter(lambda Doc:func(Doc),voc))"
   ]
  },
  {
   "cell_type": "code",
   "execution_count": 750,
   "metadata": {},
   "outputs": [
    {
     "data": {
      "text/plain": [
       "[]"
      ]
     },
     "execution_count": 750,
     "metadata": {},
     "output_type": "execute_result"
    }
   ],
   "source": [
    "a = [5,6]\n",
    "b = [1,2,3]\n",
    "list(filter(lambda x:x==10,b))"
   ]
  },
  {
   "cell_type": "code",
   "execution_count": null,
   "metadata": {},
   "outputs": [],
   "source": [
    "Document= namedtuple('Document','action hash')\n",
    "a = Document(__)"
   ]
  },
  {
   "cell_type": "code",
   "execution_count": null,
   "metadata": {},
   "outputs": [],
   "source": [
    "import functools\n",
    "\n",
    "def show_details(name, f):\n",
    "    \"\"\"Show details of a callable object.\"\"\"\n",
    "    print ('%s:' % name)\n",
    "    print ('\\tobject:', f)\n",
    "    print ('\\t__name__:',) \n",
    "    try:\n",
    "        print (f.__name__)\n",
    "    except AttributeError:\n",
    "        print ('(no __name__)')\n",
    "    print ('\\t__doc__', repr(f.__doc__))\n",
    "    print\n",
    "    return\n",
    "\n",
    "def simple_decorator(f):\n",
    "    # @functools.wraps(f)\n",
    "    def decorated(a='decorated defaults', b=1):\n",
    "        print ('\\tdecorated:', (a, b))\n",
    "        print ('\\t',\n",
    "        f(a, b=b))\n",
    "        return\n",
    "    return decorated\n",
    "\n",
    "def myfunc(a, b=2):\n",
    "    print ('\\tmyfunc:', (a,b))\n",
    "    return\n",
    "\n",
    "show_details('myfunc', myfunc)\n",
    "myfunc('unwrapped, default b')\n",
    "myfunc('unwrapped, passing b', 3)\n",
    "print\n",
    "\n",
    "wrapped_myfunc = simple_decorator(myfunc)\n",
    "show_details('wrapped_myfunc', wrapped_myfunc)\n",
    "wrapped_myfunc()\n",
    "wrapped_myfunc('args to decorated', 4)"
   ]
  },
  {
   "cell_type": "code",
   "execution_count": null,
   "metadata": {},
   "outputs": [],
   "source": [
    "def func(**kwars):\n",
    "    return kwars\n",
    "a= func(d = Document(\"Structure\",\"\\/\\*[A-Za-z]+\\*/\"),\n",
    "    b = Document(\"Replace\",\"\\/\\*[A-Za-z]+\"),\n",
    "    c = Document(\"Executive\",\"[A-Za-z]+\"))\n",
    "a.Structure"
   ]
  },
  {
   "cell_type": "code",
   "execution_count": null,
   "metadata": {},
   "outputs": [],
   "source": [
    "def func(**val):\n",
    "    print(a)\n",
    "    return a\n",
    "func({'a':\"5\"})"
   ]
  },
  {
   "cell_type": "code",
   "execution_count": null,
   "metadata": {},
   "outputs": [],
   "source": [
    "# Create a dict and namedtuple with same data and compare the size\n",
    "import random\n",
    "import sys\n",
    "\n",
    "# Create Dict\n",
    "dicts = {'numbers_1': random.randint(0, 10000),'numbers_2':random.randint(5000,10000)} \n",
    "print('Size or space occupied by dictionary',sys.getsizeof(dicts))\n",
    "\n",
    "# converting same dictionary to a namedtuple\n",
    "data=namedtuple('data',['numbers_1', 'numbers_2'])\n",
    "my_namedtuple= data(**dicts)\n",
    "print('Size or space occupied by namedtuple',sys.getsizeof(my_namedtuple))"
   ]
  },
  {
   "cell_type": "code",
   "execution_count": null,
   "metadata": {},
   "outputs": [],
   "source": [
    "commands_ref = ['WHERE','SELECT','GROUP BY','ORDER BY','FROM','DECLARE','WITH']\n",
    "','.join(commands_ref)"
   ]
  },
  {
   "cell_type": "code",
   "execution_count": null,
   "metadata": {},
   "outputs": [],
   "source": [
    "sample_str = \"'Дата','Організація','Сектор.Код','Точка обліку.Код','Контрагент.Код','Категорія споживача'*/\"\n",
    "pattern = r'[^A-Za-z0-9\\s+\\w.\\s+]+'\n",
    "sample_str = re.sub(pattern, ' ', sample_str)\n",
    "print(sample_str.strip())"
   ]
  },
  {
   "cell_type": "code",
   "execution_count": null,
   "metadata": {},
   "outputs": [],
   "source": [
    "new_data.get_sql_df(name = \"довідник_організації\",encoding = 'cp1251')"
   ]
  },
  {
   "cell_type": "code",
   "execution_count": null,
   "metadata": {},
   "outputs": [],
   "source": [
    "from optparse import OptionParser\n",
    "import inspect\n",
    "mainclass = [element  for element in  inspect.getmembers(connections.SQL_Query) if '__dict__' not in element ]\n",
    "mainclass = [element for element in mainclass if element not in inspect.getmembers(connections.SQL_Query,predicate=inspect.isfunction)]\n",
    "mainclass = [element for element in mainclass if element not in  inspect.getmembers(connections.SQL_Query,predicate=inspect.ismethoddescriptor)]\n",
    "mainclass = [element for element in mainclass if element not in  inspect.getmembers(connections.SQL_Query,predicate=inspect.isdatadescriptor)]\n",
    "mainclass = [element for element in mainclass if element not in  inspect.getmembers(connections.SQL_Query,predicate=inspect.ismodule)]\n",
    "mainclass = [element for element in mainclass if element not in  inspect.getmembers(connections.SQL_Query,predicate=inspect.ismethod)]\n",
    "mainclass = [element for element in mainclass if element not in  inspect.getmembers(connections.SQL_Query,predicate=inspect.isroutine)]\n",
    "mainclass = [element for element in mainclass if element not in  inspect.getmembers(connections.SQL_Query,predicate=inspect.istraceback)]\n",
    "mainclass = [element for element in mainclass if element not in  inspect.getmembers(connections.SQL_Query,predicate=inspect.isabstract)]\n",
    "mainclass = [element for element in mainclass if element not in  inspect.getmembers(connections.SQL_Query,predicate=inspect.isclass)]\n",
    "mainclass = [a for a in mainclass if \n",
    "mainclass"
   ]
  },
  {
   "cell_type": "code",
   "execution_count": null,
   "metadata": {},
   "outputs": [],
   "source": [
    "super_cont = new_data.__class__.__dict__\n",
    "class_cont  = new_data.__dict__\n",
    "members= dict(inspect.getmembers(connections.SQL_Query,predicate=inspect.isroutine))\n",
    "vars_cont = {}\n",
    "for key in super_cont.keys(): \n",
    "    if key not in members.keys() and not(key.startswith('__') and key.endswith('__')):\n",
    "        vars_cont[key] = super_cont[key]\n",
    "vars_cont.update(class_cont)        \n",
    "vars_cont"
   ]
  },
  {
   "cell_type": "code",
   "execution_count": null,
   "metadata": {},
   "outputs": [],
   "source": [
    "\n",
    "for key in new_data.__class__.__dict__.keys():\n",
    "    if type(new_data.__class__.__dict__[key]) is str and re.findall('^_+|_+$',key) != ['__','__'] :\n",
    "        print(key)"
   ]
  },
  {
   "cell_type": "code",
   "execution_count": null,
   "metadata": {},
   "outputs": [],
   "source": [
    "import win32com.client \n",
    "import pathlib\n",
    "import sys\n",
    "from calendar import monthrange\n",
    "\n",
    "dsn=\"Driver={SQL Server};Server=sho-cons01;Database=Indcons;Trusted_Connection=yes\"\n",
    "# rgcsql.query_coll.keys()\n",
    "conn = pyodbc.connect(dsn)\n",
    "cur= conn.cursor() # для вывода без использования инструмента pandas\n",
    "\n",
    "with open(r\"\\\\ent\\root\\HQ\\Departments\\NaturalGas\\Диспетчерская УК\\ЦДУ\\Методика прогнозування\\расчет населения ПАТ\\Прогнозирование\\IT\\Индастри\\SQL-lib\\довідник_сектори.sql\",encoding= 'cp1251') as sql_file:\n",
    "    cur.execute(sql_file.read())\n",
    "for row in cur:\n",
    "    print(row)\n",
    "mycursor.close()\n",
    "conn.close()    \n",
    "# with open(r\"\\\\ent\\root\\HQ\\Departments\\NaturalGas\\Диспетчерская УК\\ЦДУ\\Методика прогнозування\\расчет населения ПАТ\\Прогнозирование\\IT\\Индастри\\SQL-lib\\довідник_сектори.sql\",encoding= 'cp1251') as sql_file:\n",
    "    # print(pd.read_sql_query(sql_file.read(),conn))\n"
   ]
  },
  {
   "cell_type": "code",
   "execution_count": null,
   "metadata": {},
   "outputs": [],
   "source": [
    "#раблота со схемами\n",
    "import pandas as pd\n",
    "\n",
    "sql_scheme = pd.read_excel(r\"\\\\ent\\root\\HQ\\Departments\\NaturalGas\\Диспетчерская УК\\ЦДУ\\Методика прогнозування\\расчет населения ПАТ\\Прогнозирование\\IT\\Индастри\\sql_запросы_схемы.xlsx\")\n",
    "sql_scheme.columns = [\"empty0\",\"references\",\"names\",\"empty1\",\"code\",\"empty3\"]\n",
    "sql_scheme = sql_scheme.filter(regex = '^(?!.*empty)')\n",
    "sql_scheme\n"
   ]
  },
  {
   "cell_type": "code",
   "execution_count": null,
   "metadata": {},
   "outputs": [],
   "source": []
  }
 ],
 "metadata": {
  "kernelspec": {
   "display_name": "Python 3.10.6 ('pystages')",
   "language": "python",
   "name": "python3"
  },
  "language_info": {
   "codemirror_mode": {
    "name": "ipython",
    "version": 3
   },
   "file_extension": ".py",
   "mimetype": "text/x-python",
   "name": "python",
   "nbconvert_exporter": "python",
   "pygments_lexer": "ipython3",
   "version": "3.10.6"
  },
  "orig_nbformat": 4,
  "vscode": {
   "interpreter": {
    "hash": "e585d374553da2f6d109a7329fc966c74d7036d7cc8494a6df69d17fb8eda2dc"
   }
  }
 },
 "nbformat": 4,
 "nbformat_minor": 2
}
