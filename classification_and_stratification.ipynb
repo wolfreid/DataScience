{
 "cells": [
  {
   "cell_type": "code",
   "execution_count": null,
   "metadata": {},
   "outputs": [],
   "source": [
    "import pandas as pd\n",
    "import numpy as np\n",
    "import statistics as stat\n",
    "from datetime import datetime, date\n",
    "from sklearn.cluster import KMeans\n",
    "import seaborn as sns\n",
    "import matplotlib.pyplot as plt\n",
    "from scipy import stats\n",
    "from scipy.stats import norm, shapiro\n",
    "\n",
    "import scipy.stats as st\n",
    "from scipy.stats import ttest_ind\n",
    "import random\n",
    "\n",
    "import pandas as pd\n",
    "import pyodbc\n"
   ]
  },
  {
   "cell_type": "code",
   "execution_count": null,
   "metadata": {},
   "outputs": [],
   "source": [
    "\n",
    "def normality_test(x):\n",
    "    try:\n",
    "        # stat , p = shapiro(x)\n",
    "        stat, p = stats.normaltest(x)\n",
    "    except:\n",
    "        return \"small sample\"\n",
    "    return \"rejected\" if p < 0.05 else \"not rejected\"\n",
    "\n",
    "\n",
    "def shapiro_test(x):\n",
    "    try:\n",
    "        # stat , p = shapiro(x)\n",
    "        stat, p = shapiro(x)\n",
    "    except:\n",
    "        return \"small sample\"\n",
    "    return \"rejected\" if p < 0.05 else \"not rejected\"\n",
    "\n",
    "\n",
    "def kolmagorov_test(x):\n",
    "    try:\n",
    "        # stat , p = shapiro(x)\n",
    "        stat, p = stats.kstest(x, 'norm')\n",
    "    except:\n",
    "        return \"small sample\"\n",
    "    return \"rejected\" if p < 0.05 else \"not rejected\"\n",
    "\n",
    "\n",
    "filters = ['organization', 'temprature_rnd', 'month']\n",
    "desc_group = data_volume.groupby(filters).agg({'volume': [\n",
    "    'mean', 'std', 'count', 'median', normality_test, shapiro_test, kolmagorov_test]})\n",
    "desc_group.columns = desc_group.columns.droplevel(0)\n",
    "# desc_group.loc[(ranges_orgs,5),:]\n",
    "result = desc_group[[\"normality_test\", \"shapiro_test\", \"kolmagorov_test\"]]\n",
    "result = result.reset_index()\n",
    "result.melt(id_vars=['organization', 'temprature_rnd'],\n",
    "            value_vars=[\"normality_test\", \"shapiro_test\", \"kolmagorov_test\"],\n",
    "            var_name='method', value_name='test').to_excel(\"result_hypo.xlsx\")\n",
    "\n",
    "sns.histplot(vol_data, kde=True, binwidth=std, edgecolor='black')\n",
    "print(len(vol_data))\n",
    "plt.show()\n",
    "\n",
    "\n"
   ]
  },
  {
   "cell_type": "code",
   "execution_count": null,
   "metadata": {},
   "outputs": [],
   "source": [
    "\n",
    "# Set a correct value for num_tests_50percent\n",
    "num_tests_50percent = None\n",
    "\n",
    "\n",
    "# Create the plot\n",
    "sig_threshold = 0.05\n",
    "num_tests = np.array(range(50))\n",
    "probabilities = 1-((1-sig_threshold)**num_tests)\n",
    "plt.plot(num_tests, probabilities)\n",
    "# Edit title and axis labels\n",
    "plt.title('Type I Error Rate for Multiple Tests', fontsize=15)\n",
    "# Label the y-axis\n",
    "plt.ylabel('Probability of at Least One Type I Error', fontsize=12)\n",
    "# Label the x-axis\n",
    "plt.xlabel('Number of Tests', fontsize=12)\n"
   ]
  },
  {
   "cell_type": "code",
   "execution_count": null,
   "metadata": {},
   "outputs": [],
   "source": [
    "\n",
    "plot_table = data_volume_control\n",
    "profiles = list(set(plot_table.profile))\n",
    "profile = profiles[5]\n",
    "version = ''\n",
    "x_name, y_name = \"temprature\", \"volume\"\n",
    "filename = 'analysis_KG ' + str(profile) + \\\n",
    "    version + \"_\" + x_name + \"-\" + y_name + '.pdf'\n",
    "y = np.array(plot_table[plot_table.profile == profile][y_name])\n",
    "x = np.array(plot_table[plot_table.profile == profile][x_name])\n",
    "\n",
    "fig = plt.figure(figsize=(50, 20))\n",
    "ax = fig.add_subplot(1, 2, 1)\n",
    "ax.scatter(x, y, s=10)\n",
    "\n",
    "plt.xticks(np.arange(min(x), max(x), 2))\n",
    "plt.xticks(fontsize=8, rotation=90)\n",
    "plt.yticks(np.arange(min(y), max(y), max(y)/50))\n",
    "# ax.plot(x_approx, y_approx, label = days + '_approx', color = '#006400')\n",
    "plt.ylabel(y_name)\n",
    "plt.xlabel(x_name)\n",
    "plt.title(\"Профіль \" + str(profile), fontsize=15)\n",
    "plt.savefig(filename)\n",
    "plt.show()\n",
    "variance_coeff = print(stat.stdev(y)/np.mean(y))\n",
    "variance_coeff\n",
    "\n",
    "sns.histplot(array)\n",
    "plt.show()\n",
    "\n"
   ]
  },
  {
   "cell_type": "code",
   "execution_count": null,
   "metadata": {},
   "outputs": [],
   "source": [
    "# колонка с количеством дней и вывоод фильтра температуры\n",
    "\n",
    "data_volume_control = data_volume[data_volume.peracc.isin(array)]\n",
    "data_volume_control.date = pd.to_datetime(\n",
    "    data_volume_control.date, dayfirst=True)\n",
    "data_volume_control[\"number_of_day\"] = data_volume_control.date.apply(\n",
    "    lambda x: x.timetuple().tm_yday)\n",
    "data_volume_control[['volume', 'temprature']]\n",
    "data_volume_control.loc[:, '2darray'] = data_volume_control.apply(\n",
    "    lambda x: [x.volume, x.temprature], axis=1)\n",
    "\n",
    "data_volume_control_by_temp = data_volume_control[(data_volume_control.temprature < 22) &\n",
    "                                                  (data_volume_control.volume > 0)]\n"
   ]
  },
  {
   "cell_type": "code",
   "execution_count": null,
   "metadata": {},
   "outputs": [],
   "source": [
    "\n",
    "y = np.array(list(plot_table['2darray']))\n",
    "distortions = []\n",
    "for i in range(1, 11):\n",
    "    km = KMeans(\n",
    "        n_clusters=i, init='random',\n",
    "        n_init=10, max_iter=300,\n",
    "        tol=1e-04, random_state=0\n",
    "    )\n",
    "    km.fit(y)\n",
    "    distortions.append(km.inertia_)\n",
    "\n",
    "# plot\n",
    "plt.plot(range(1, 11), distortions, marker='o')\n",
    "plt.xlabel('Number of clusters')\n",
    "plt.ylabel('Distortion')\n",
    "plt.show()\n"
   ]
  },
  {
   "cell_type": "code",
   "execution_count": null,
   "metadata": {},
   "outputs": [],
   "source": [
    "kmeans = KMeans(n_clusters=6)\n",
    "kmeans.fit(y)\n",
    "y_kmeans = kmeans.predict(y)\n"
   ]
  },
  {
   "cell_type": "code",
   "execution_count": null,
   "metadata": {},
   "outputs": [],
   "source": [
    "plt.scatter(y[:, 1], y[:, 0], c=y_kmeans, s=20, cmap='summer')\n",
    "centers = kmeans.cluster_centers_\n",
    "plt.scatter(centers[:, 0], centers[:, 1], c='blue', s=100, alpha=0.9)\n",
    "\n",
    "plt.show()\n"
   ]
  },
  {
   "cell_type": "code",
   "execution_count": null,
   "metadata": {},
   "outputs": [],
   "source": [
    "data_classified = pd.concat([pd.Series(list(y_kmeans)),\n",
    "                             pd.Series(y.tolist()),\n",
    "                             plot_table[\"profile\"].reset_index(drop=True)], axis=1)\n",
    "data_classified.columns = [\"new_class\", \"intervals\", \"profile\"]\n"
   ]
  },
  {
   "cell_type": "code",
   "execution_count": null,
   "metadata": {},
   "outputs": [],
   "source": [
    "pd.crosstab(data_classified.new_class, data_classified.profile,\n",
    "            margins=True, margins_name=\"Total\")\n",
    "crossing = pd.crosstab(data_classified.new_class,\n",
    "                       data_classified.profile, normalize='index').round(2)\n",
    "crossing[\"max\"] = crossing.max(axis=1)\n"
   ]
  },
  {
   "cell_type": "code",
   "execution_count": null,
   "metadata": {},
   "outputs": [],
   "source": [
    "\n",
    "plt.rcParams.update({'font.size': 5})\n",
    "fig = plt.figure(figsize=(14, 6), dpi=80)\n",
    "fig.subplots_adjust(hspace=0.5)\n",
    "\n",
    "for new_class in list(range(6)):\n",
    "    y_cond = np.array(\n",
    "        data_classified[data_classified.new_class == new_class].intervals.to_list())\n",
    "    y_kmeans = np.array(\n",
    "        data_classified[data_classified.new_class == new_class].new_class)\n",
    "    ax = fig.add_subplot(4, 4, 4)\n",
    "    ax.scatter(y_cond[:, 1], y_cond[:, 0], c=y_kmeans, s=20, cmap='summer')\n",
    "    ax.scatter(centers[new_class][:, 0], centers[new_class]\n",
    "               [:, 1], c='blue', s=100, alpha=0.9)\n",
    "# plt.savefig(\"clusterization.pdf\")\n",
    "plt.show()\n"
   ]
  }
 ],
 "metadata": {
  "kernelspec": {
   "display_name": "base",
   "language": "python",
   "name": "python3"
  },
  "language_info": {
   "name": "python",
   "version": "3.8.5 (default, Sep  3 2020, 21:29:08) [MSC v.1916 64 bit (AMD64)]"
  },
  "orig_nbformat": 4,
  "vscode": {
   "interpreter": {
    "hash": "ad2bdc8ecc057115af97d19610ffacc2b4e99fae6737bb82f5d7fb13d2f2c186"
   }
  }
 },
 "nbformat": 4,
 "nbformat_minor": 2
}
